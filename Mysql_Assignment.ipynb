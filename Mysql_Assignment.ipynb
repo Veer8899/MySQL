{
 "cells": [
  {
   "cell_type": "markdown",
   "id": "0c344386-d31d-4656-a669-6de9eb178317",
   "metadata": {},
   "source": [
    "## Q1. What is a database? Differentiate between SQL and NoSQL databases."
   ]
  },
  {
   "cell_type": "markdown",
   "id": "c778b71f-58c6-48a1-9cbf-cfa1bd2c8c5d",
   "metadata": {},
   "source": [
    "#### A database is an organized collection of data that store and manage the data in structured manner, efficient, as well as it manipulate the data and store the information and work as a storage.  It serves as a central repository for storing and managing various types of data, such as text, numbers, images, videos, and more."
   ]
  },
  {
   "cell_type": "markdown",
   "id": "06b36f14-211f-468e-a4ec-2542d77e8655",
   "metadata": {},
   "source": [
    "### SQL:\n",
    "#### SQL is a Structured Query Language databases are based on the relational model. They use a structured schema to define the organization of data and relationships between different entities. It generally used in MySQL as a Query Language, it helps to provide strucrure ti the data. SQL databases support transactions, allowing for multiple operations to be grouped together as a single unit of work. It also manipulate the data, and provide data integrity.\n"
   ]
  },
  {
   "cell_type": "markdown",
   "id": "a9ee5bed-9995-4084-ad88-d42780f28da5",
   "metadata": {},
   "source": [
    "### NoSQL:\n",
    "#### NoSQL (Not Only SQL) databases are designed to store and retrieve large volumes of unstructured or semi-structured data. They provide flexible schemas and focus on scalability and performance. It provide scalibility, prioritize performance and can handle high-speed data ingestion and retrieval. NoSQL databases typically do not support complex joins between multiple tables. NoSQL databases do not have a standardized query language like SQL. Each NoSQL database has its own query interface or API for data access and manipulation.\n"
   ]
  },
  {
   "cell_type": "markdown",
   "id": "81d60842-29f0-4ee6-9db6-37a3fd26d3bb",
   "metadata": {},
   "source": [
    "## Q2. What is DDL? Explain why CREATE, DROP, ALTER, and TRUNCATE are used with an example."
   ]
  },
  {
   "cell_type": "markdown",
   "id": "2cf7d160-3c30-4a5a-9a40-d189b0cefc9c",
   "metadata": {},
   "source": [
    "\n",
    "#### >>DDL stands for Data Definition Language. It is a command of SQL used to define and manage the structure of a database schema."
   ]
  },
  {
   "cell_type": "markdown",
   "id": "a33df4fc-fdf7-4b88-a169-363acff98cf0",
   "metadata": {},
   "source": [
    "### CREATE: Used to create a new database object, such as a table, index, or view.\n",
    "#### Eg: CREATE TABLE Employees (id INT, name VARCHAR(50), age INT);"
   ]
  },
  {
   "cell_type": "markdown",
   "id": "36d12a5e-ea8d-4c5b-936a-ee3c337f37e8",
   "metadata": {},
   "source": [
    "### ALTER: Used to modify the structure of an existing database object.\n",
    "#### Example: ALTER TABLE Employees ADD COLUMN salary INT;"
   ]
  },
  {
   "cell_type": "markdown",
   "id": "96e83637-0adb-43e5-aeec-b28c02cb3c05",
   "metadata": {},
   "source": [
    "### DROP: Used to delete an existing database object.\n",
    "#### Example: DROP TABLE Employees;\n"
   ]
  },
  {
   "cell_type": "markdown",
   "id": "88bdd3db-59aa-454b-a492-3014a45f4ab1",
   "metadata": {},
   "source": [
    "### TRUNCATE: Used to remove all rows from a table, but keeps table structure as it is.\n",
    "#### Example: TRUNCATE TABLE Employees;\n"
   ]
  },
  {
   "cell_type": "markdown",
   "id": "143704a2-9cd9-4c27-9295-034bc8bdba38",
   "metadata": {},
   "source": [
    "## Q3. What is DML? Explain INSERT, UPDATE, and DELETE with an example."
   ]
  },
  {
   "cell_type": "markdown",
   "id": "0bd374cc-35c0-441c-a9ff-5a9ab61f03de",
   "metadata": {},
   "source": [
    "#### DML stands for Data Manipulation Language. It is a command of SQL used to manipulate and modify data within a database. It is used to insert, update, and delete data in database tables. "
   ]
  },
  {
   "cell_type": "markdown",
   "id": "a0171d8f-aa1f-471a-8877-ff75d879e6d3",
   "metadata": {},
   "source": [
    "### INSERT: The INSERT statement is used to add new rows or records into a table.\n",
    "#### Example: INSERT INTO Customers (CustomerID, FirstName, LastName) VALUES (1, 'ram', 'raj');"
   ]
  },
  {
   "cell_type": "markdown",
   "id": "cb3ce439-2123-4c80-80a0-49c80588964a",
   "metadata": {},
   "source": [
    "### UPDATE: The UPDATE statement is used to modify existing data in a table. It allows you to change the values of one or more columns in one or multiple rows.\n",
    "#### UPDATE Customers SET LastName = 'ram' WHERE CustomerID = 1;"
   ]
  },
  {
   "cell_type": "markdown",
   "id": "b29b2f9b-9682-42d4-bc4e-15648e717e43",
   "metadata": {},
   "source": [
    "### DELETE: The DELETE statement is used to remove one or more rows from a table. It allows you to selectively delete specific records based on specified conditions.\n",
    "#### Example: DELETE FROM Customers WHERE CustomerID = 1;"
   ]
  },
  {
   "cell_type": "markdown",
   "id": "af155717-1734-4be7-a64e-50fc5b66fdef",
   "metadata": {},
   "source": [
    "## Q4. What is DQL? Explain SELECT with an example."
   ]
  },
  {
   "cell_type": "markdown",
   "id": "19a6f398-722c-468e-96f7-0cc640bb923a",
   "metadata": {},
   "source": [
    "### DQL stands for Data Query Language. It is a command of SQL used to retrieve and query data from a database. DQL statements are primarily focused on retrieving data from database tables rather than modifying or manipulating it."
   ]
  },
  {
   "cell_type": "markdown",
   "id": "b98f791f-1f0b-447c-88a3-33bd75c53d3c",
   "metadata": {},
   "source": [
    "#### Example: SELECT EmployeeID, FirstName, LastName, Salary FROM Employees WHERE Salary > 50000;"
   ]
  },
  {
   "cell_type": "markdown",
   "id": "8cd413cf-214b-4bb3-b7e7-d25cd7b84f50",
   "metadata": {},
   "source": [
    "## Q5. Explain Primary Key and Foreign Key."
   ]
  },
  {
   "cell_type": "markdown",
   "id": "652df74b-9bbd-406e-ac02-8fe1d7658fd7",
   "metadata": {},
   "source": [
    "#### Primary Key: It is a column or a combination of columns that uniquely identifies each row in a database table. It serves as a unique identifier for each record, ensuring that there are no duplicate or null values in the key columns. \n",
    "#### Examples: In a table of \"Employees,\" a primary key column \"EmployeeID\" can be used to uniquely identify each employee record. "
   ]
  },
  {
   "cell_type": "markdown",
   "id": "4864a831-95b8-43ca-b524-66fd232a4336",
   "metadata": {},
   "source": [
    "#### A foreign key is a column or a combination of columns in a database table that establishes a link or relationship between two tables. It refers to the primary key column(s) in another table, creating a relationship between the two tables based on common values. \n",
    "#### Examples: In a table of \"Orders,\" a foreign key column \"CustomerID\" can reference the primary key \"CustomerID\" in the \"Customers\" table, establishing a relationship between orders and customers. In a table of \"Enrollments,\" a composite foreign key consisting of \"StudentID\" and \"CourseID\" can reference the primary key of the \"Students\" and \"Courses\" tables, establishing a many-to-many relationship."
   ]
  },
  {
   "cell_type": "markdown",
   "id": "0ac19b96-d074-41a6-87b4-fa7be13414b0",
   "metadata": {},
   "source": [
    "## Q6. Write a python code to connect MySQL to python. Explain the cursor() and execute() method."
   ]
  },
  {
   "cell_type": "code",
   "execution_count": null,
   "id": "eb563a5f-d191-4738-9ab4-5487819c3e95",
   "metadata": {},
   "outputs": [],
   "source": [
    "\"\"\"\n",
    "import mysql.connector\n",
    "mydb = mysql.connector.connect(\n",
    "  host=\"localhost\",\n",
    "  user=\"abc\",\n",
    "  password=\"password\"\n",
    ")\n",
    "print(mydb)\n",
    "mycursor = mydb.cursor()\n",
    "\"\"\""
   ]
  },
  {
   "cell_type": "markdown",
   "id": "b20dacc4-0221-4a41-a013-b374e1f7629c",
   "metadata": {},
   "source": [
    "#### cursor()--> It is used to create a cursor object. A cursor allows you to execute SQL queries and fetch results from the database. The cursor acts as a handle or pointer that helps you navigate and manipulate the data in the database."
   ]
  },
  {
   "cell_type": "markdown",
   "id": "599466b4-7e49-4199-b5c7-b1f7ba551a66",
   "metadata": {},
   "source": [
    "#### execute()--> is used to execute SQL statements or queries through the cursor object. It takes the SQL statement as a parameter and executes it on the connected database."
   ]
  },
  {
   "cell_type": "markdown",
   "id": "a7e8fea5-bbb2-4c51-a659-b0be554a8f71",
   "metadata": {},
   "source": [
    "## Q7. Give the order of execution of SQL clauses in an SQL query."
   ]
  },
  {
   "cell_type": "markdown",
   "id": "bf981f6a-1241-4096-87c2-d05a00d54c52",
   "metadata": {},
   "source": [
    "### The oder of execution of SQL clauses in an SQL query in the following way:-\n",
    "####FROM: Specifies the table(s) from which to retrieve the data.\n",
    "\n",
    "####JOIN: If there are multiple tables involved in the query and they need to be joined, the join conditions are applied. The tables are combined based on the specified join criteria.\n",
    "\n",
    "####WHERE: Filters the rows based on specified conditions. Only the rows that satisfy the conditions in the WHERE clause are included in the result set.\n",
    "\n",
    "GROUP BY: Groups the rows based on specified columns. This is typically used in combination with aggregate functions like COUNT, SUM, AVG, etc.\n",
    "\n",
    "HAVING: Filters the groups created by the GROUP BY clause based on specified conditions. Only the groups that satisfy the conditions in the HAVING clause are included in the result set.\n",
    "\n",
    "SELECT: Specifies the columns to be included in the result set. This is where calculations, transformations, and selection of specific columns occur.\n",
    "\n",
    "DISTINCT: Removes duplicate rows from the result set.\n",
    "\n",
    "ORDER BY: Sorts the result set based on specified columns and sort order.\n",
    "\n",
    "LIMIT/OFFSET"
   ]
  }
 ],
 "metadata": {
  "kernelspec": {
   "display_name": "Python 3 (ipykernel)",
   "language": "python",
   "name": "python3"
  },
  "language_info": {
   "codemirror_mode": {
    "name": "ipython",
    "version": 3
   },
   "file_extension": ".py",
   "mimetype": "text/x-python",
   "name": "python",
   "nbconvert_exporter": "python",
   "pygments_lexer": "ipython3",
   "version": "3.10.8"
  }
 },
 "nbformat": 4,
 "nbformat_minor": 5
}
